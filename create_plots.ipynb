{
 "cells": [
  {
   "cell_type": "markdown",
   "metadata": {},
   "source": [
    "# Plot and table creation for RTN-014"
   ]
  },
  {
   "cell_type": "markdown",
   "metadata": {},
   "source": [
    "## Imports"
   ]
  },
  {
   "cell_type": "code",
   "execution_count": null,
   "metadata": {},
   "outputs": [],
   "source": [
    "%load_ext autoreload\n",
    "%autoreload 1"
   ]
  },
  {
   "cell_type": "code",
   "execution_count": null,
   "metadata": {},
   "outputs": [],
   "source": [
    "from IPython.core.display import display, HTML\n",
    "import sys\n",
    "import os\n",
    "from collections import namedtuple\n",
    "from functools import partial\n",
    "import sqlite3\n",
    "import astropy\n",
    "from astropy.time import Time\n",
    "import astropy.coordinates\n",
    "import astropy.units as u\n",
    "import numpy as np\n",
    "import pandas as pd\n",
    "import scipy\n",
    "import scipy.stats\n",
    "import healpy\n",
    "import matplotlib as mpl\n",
    "import matplotlib.pyplot as plt\n",
    "import ipywidgets as widgets\n",
    "from ipywidgets import interact, interactive, fixed, interact_manual\n",
    "from argparse import Namespace\n",
    "import yaml\n",
    "import logging\n",
    "import numexpr\n",
    "from logging import info"
   ]
  },
  {
   "cell_type": "markdown",
   "metadata": {},
   "source": [
    "## Configuration"
   ]
  },
  {
   "cell_type": "code",
   "execution_count": null,
   "metadata": {},
   "outputs": [],
   "source": [
    "logging.basicConfig(\n",
    "    format='%(asctime)s %(message)s',\n",
    "    level=logging.DEBUG)\n",
    "\n",
    "mpl.rcParams['figure.figsize'] = (16, 5)\n",
    "plt.style.use('ggplot')\n",
    "np.random.seed(6563)"
   ]
  },
  {
   "cell_type": "code",
   "execution_count": null,
   "metadata": {},
   "outputs": [],
   "source": [
    "mpl_logger = logging.getLogger('matplotlib')\n",
    "mpl_logger.setLevel(logging.WARNING) "
   ]
  },
  {
   "cell_type": "code",
   "execution_count": null,
   "metadata": {},
   "outputs": [],
   "source": [
    "BAND_COLOR_RUBIN = {\n",
    "    'u': '#56b4e9',\n",
    "    'g': '#008060',\n",
    "    'r': '#ff4000',\n",
    "    'i': '#850000',\n",
    "    'z': '#6600cc',\n",
    "    'y': '#000000'}"
   ]
  },
  {
   "cell_type": "code",
   "execution_count": null,
   "metadata": {},
   "outputs": [],
   "source": [
    "# %aimport ddfpresched\n",
    "# %aimport ddfpresched.m5\n",
    "# %aimport ddfpresched.presched"
   ]
  },
  {
   "cell_type": "code",
   "execution_count": null,
   "metadata": {},
   "outputs": [],
   "source": [
    "numexpr.set_num_threads(30)"
   ]
  },
  {
   "cell_type": "markdown",
   "metadata": {},
   "source": [
    "## Read table of depth and other parameters by time"
   ]
  },
  {
   "cell_type": "markdown",
   "metadata": {},
   "source": [
    "The data file read here can be created using the `python/ddfpresched/m5.py` script, using the configuration file in `etc/m5a.h5`."
   ]
  },
  {
   "cell_type": "markdown",
   "metadata": {},
   "source": [
    "Actually read the depth data into a `pandas.DataFrame`:"
   ]
  },
  {
   "cell_type": "code",
   "execution_count": null,
   "metadata": {},
   "outputs": [],
   "source": [
    "%%time\n",
    "short_survey = True\n",
    "m5_fname = 'data/m5a.h5' if short_survey else 'data/m5.h5'\n",
    "m5 = pd.read_hdf(m5_fname)"
   ]
  },
  {
   "cell_type": "markdown",
   "metadata": {},
   "source": [
    "Take a look at what we've got:"
   ]
  },
  {
   "cell_type": "code",
   "execution_count": null,
   "metadata": {},
   "outputs": [],
   "source": [
    "m5.describe().T"
   ]
  },
  {
   "cell_type": "markdown",
   "metadata": {},
   "source": [
    "Set a useful index and sort by it.\n",
    "\n",
    "To make debugging faster, cache it and just recopy it from the cache if the cell gets rerun."
   ]
  },
  {
   "cell_type": "code",
   "execution_count": null,
   "metadata": {},
   "outputs": [],
   "source": [
    "%%time\n",
    "try:\n",
    "    m5 = m5_checkpoint.copy()\n",
    "except:\n",
    "    m5 = m5.reset_index().set_index(['field_name', 'band', 'time'], drop=False).sort_index()\n",
    "    m5_checkpoint = m5.copy()"
   ]
  },
  {
   "cell_type": "markdown",
   "metadata": {},
   "source": [
    "When the field is below the horizon, it might have invalid values for airmass. Mark them as such."
   ]
  },
  {
   "cell_type": "code",
   "execution_count": null,
   "metadata": {},
   "outputs": [],
   "source": [
    "m5.loc[m5.field_airmass < 1.0, 'field_airmass'] = np.nan"
   ]
  },
  {
   "cell_type": "markdown",
   "metadata": {},
   "source": [
    "Find the full moons, and mark them."
   ]
  },
  {
   "cell_type": "code",
   "execution_count": null,
   "metadata": {},
   "outputs": [],
   "source": [
    "moon_elongation = m5.sort_values('mjd').set_index('mjd').loc[:, 'moon_elongation'].drop_duplicates()\n",
    "prev_moon_elongation = moon_elongation.shift(1)\n",
    "next_moon_elongation = moon_elongation.shift(-1)\n",
    "full_moon_mjds = moon_elongation.loc[np.logical_and(prev_moon_elongation < moon_elongation, next_moon_elongation < moon_elongation)].index.values\n",
    "m5['full_moon'] = np.isin(m5.mjd, full_moon_mjds)\n",
    "full_moon_nights = full_moon_mjds - m5.eval('mjd - night').median()\n",
    "m5.query('full_moon').head()"
   ]
  },
  {
   "cell_type": "markdown",
   "metadata": {},
   "source": [
    "Find where each field is closest to the moon. Note that this is independent of band, so we need only find the MJDs for one band."
   ]
  },
  {
   "cell_type": "code",
   "execution_count": null,
   "metadata": {},
   "outputs": [],
   "source": [
    "m5['moon_nearest'] = False\n",
    "for field_name in m5.field_name.unique():\n",
    "    these_m5 = m5.loc[(field_name, 'r')]\n",
    "    moon_angle = these_m5.sort_values('mjd').set_index('mjd').loc[:, 'moon_angle'].drop_duplicates()\n",
    "    prev_moon_angle = moon_angle.shift(1)\n",
    "    next_moon_angle = moon_angle.shift(-1)\n",
    "    near_moon_mjds = moon_angle.loc[np.logical_and(prev_moon_angle > moon_angle, next_moon_angle > moon_angle)].index.values\n",
    "    m5.loc[field_name, 'moon_nearest'] = np.isin(m5.loc[field_name, 'mjd'], near_moon_mjds)\n",
    "m5.query('moon_nearest').loc[('COSMOS', 'r'), 'moon_angle'].head()"
   ]
  },
  {
   "cell_type": "markdown",
   "metadata": {},
   "source": [
    "## Minimum lunar angle with each field"
   ]
  },
  {
   "cell_type": "code",
   "execution_count": null,
   "metadata": {},
   "outputs": [],
   "source": [
    "m5.groupby(level='field_name')['moon_angle'].min()"
   ]
  },
  {
   "cell_type": "markdown",
   "metadata": {},
   "source": [
    "## Mark dates on which the moon is closest to the field"
   ]
  },
  {
   "cell_type": "code",
   "execution_count": null,
   "metadata": {},
   "outputs": [],
   "source": [
    "field_m5 = m5.loc[('COSMOS', 'g')].groupby('night').min().reset_index().copy()\n",
    "prev_moon_angle = field_m5.moon_angle.shift(1)\n",
    "next_moon_angle = field_m5.moon_angle.shift(-1)\n",
    "field_m5['moon_nearest'] = np.logical_and(prev_moon_angle > field_m5['moon_angle'],\n",
    "                                              next_moon_angle > field_m5['moon_angle'])\n",
    "field_m5.query('(moon_nearest or full_moon)').loc[:, ('time', 'mjd', 'night', 'field_airmass', 'full_moon', 'moon_nearest')]"
   ]
  },
  {
   "cell_type": "markdown",
   "metadata": {},
   "source": [
    "# Depth and gap plots"
   ]
  },
  {
   "cell_type": "code",
   "execution_count": null,
   "metadata": {},
   "outputs": [],
   "source": [
    "def make_dual_plot(in_m5, field_name=None, bands=None, gap_mags=[23, 23.5, 24], gap_band='g', show_legend=False, normalize=False, night_range=[200, 565], scheduled_nights=None, cadence_name=''):\n",
    "    m5 = in_m5.query(f'(night>{night_range[0]}) and (night<{night_range[1]})')\n",
    "    bands = reversed(('u', 'g', 'r', 'i', 'z', 'y')) if bands is None else bands\n",
    "    fig, axes = plt.subplots(2, figsize=(12, 12), sharex=True)\n",
    "\n",
    "    #for full_moon_night in m5.loc[(field_name, gap_band)].query('full_moon').night:\n",
    "    for full_moon_night in full_moon_nights:\n",
    "        for ax in axes:\n",
    "            ax.axvline(x=full_moon_night, color='orange')\n",
    "\n",
    "\n",
    "    field_m5 = m5.loc[(field_name, gap_band)].groupby('night').min().reset_index().copy()\n",
    "    if True:\n",
    "        prev_moon_angle = field_m5.moon_angle.shift(1)\n",
    "        next_moon_angle = field_m5.moon_angle.shift(-1)\n",
    "        field_m5['moon_nearest'] = np.logical_and(prev_moon_angle > field_m5['moon_angle'],\n",
    "                                                  next_moon_angle > field_m5['moon_angle'])\n",
    "    for nearest_moon_night in field_m5.query('moon_nearest').night:\n",
    "        for ax in axes:\n",
    "            ax.axvline(x=nearest_moon_night, color='yellow')\n",
    "\n",
    "    for band in bands:\n",
    "        these_nights = (m5\n",
    "                        .loc[(field_name, band)]\n",
    "                        .groupby('night')\n",
    "                        .max()\n",
    "                        .reindex(np.arange(np.max(m5.night))) # Drops downtime\n",
    "                       )\n",
    "        y = these_nights.m5 - these_nights.m5.max() if normalize else these_nights.m5\n",
    "        axes[0].step(these_nights.index, y, label=band, color=BAND_COLOR_RUBIN[band], where='post')\n",
    "        if band==gap_band:\n",
    "            axes[1].step(these_nights.index, y, label=band, color=BAND_COLOR_RUBIN[band], where='post')\n",
    "            \n",
    "        if band==gap_band and scheduled_nights is not None:\n",
    "            why_symbols = {'start': '*',\n",
    "                           'cadence': '|',\n",
    "                           'pregap': 5,\n",
    "                           'postgap': 4,\n",
    "                           'bridge': 'd'}\n",
    "            in_time_scheduled_nights = scheduled_nights.loc[these_nights.mjd.min():these_nights.mjd.max()]\n",
    "            for why_key in why_symbols:\n",
    "                these_scheduled_nights = in_time_scheduled_nights.loc[in_time_scheduled_nights.why == why_key, 'night']\n",
    "                axes[1].scatter(these_scheduled_nights, y.loc[these_scheduled_nights], color='magenta', marker=why_symbols[why_key], s=75)\n",
    "        \n",
    "    if len(gap_mags)>0:\n",
    "        for gap_mag in gap_mags:\n",
    "            best_mag = m5.loc[(field_name, gap_band), 'm5'].max() if normalize else 0\n",
    "            good_nights = (m5\n",
    "                           .loc[(field_name, gap_band)]\n",
    "                           .groupby('night')\n",
    "                           .max()\n",
    "                           .reset_index()\n",
    "                           .query(f'(m5 - {best_mag})>{gap_mag}')\n",
    "                           .loc[:,['night']]\n",
    "                           .copy())\n",
    "            good_nights['next_night'] = good_nights.night.shift(-1)\n",
    "            good_nights['next_gap'] = good_nights.next_night - good_nights.night\n",
    "            gaps = good_nights.query('(next_gap>2) and (next_gap < 20)').copy()\n",
    "            gaps = gaps.query('night > 5').copy()\n",
    "            gaps['center_night'] = (gaps['night'] + gaps['next_night'])/2\n",
    "            gap_mag_array = np.full(len(gaps), gap_mag)\n",
    "            axes[1].hlines(y=gap_mag_array, xmin=gaps.night.values+1, xmax=gaps.next_night.values, color='black')\n",
    "            axes[1].scatter(gaps.night.values+1, # Add 1 to draw line from the end of one night to the beginning of the next\n",
    "                       gap_mag_array, color='black', marker='|')\n",
    "            axes[1].scatter(gaps.next_night.values, gap_mag_array, color='black', marker='|')\n",
    "            for _, gap in gaps.iterrows():\n",
    "                axes[1].text(gap['center_night'],\n",
    "                        gap_mag,\n",
    "                        s=f'{gap[\"next_gap\"].astype(int)}',\n",
    "                        horizontalalignment='center',\n",
    "                        verticalalignment='top')\n",
    "    axes[0].set_title(f'Best limiting magnitudes by night for {field_name}')\n",
    "    axes[1].set_title(f'{cadence_name} gaps in {field_name}')\n",
    "    if show_legend:\n",
    "        axes[0].legend()\n",
    "    for ax in axes:\n",
    "        nights_with_data = these_nights.dropna().query('m5>0').index.values\n",
    "        ax.set_xlim(nights_with_data.min()-10, nights_with_data.max()+10)\n",
    "        ax.set_ylabel('best single visit 5-sigma limiting mag. in night')\n",
    "        ax.set_xlabel('night of survey')\n",
    "        \n",
    "    return fig, axes"
   ]
  },
  {
   "cell_type": "code",
   "execution_count": null,
   "metadata": {},
   "outputs": [],
   "source": [
    "fig, axes = make_dual_plot(m5, 'COSMOS', ['u', 'g', 'r', 'i', 'z', 'y'], gap_mags=[-0.5, -1, -1.5], gap_band='g', normalize=True, show_legend=True, night_range=[300, 665])"
   ]
  },
  {
   "cell_type": "code",
   "execution_count": null,
   "metadata": {},
   "outputs": [],
   "source": [
    "fig.savefig('figures/night_maglim_cosmos.png', dpi=600, bbox_inches=\"tight\", pad_inches=0)\n",
    "fig.savefig('figures/night_maglim_cosmos.pdf', bbox_inches=\"tight\", pad_inches=0)"
   ]
  },
  {
   "cell_type": "code",
   "execution_count": null,
   "metadata": {},
   "outputs": [],
   "source": [
    "fig, axes = make_dual_plot(m5, 'COSMOS', ['g', 'i', 'y'], gap_mags=[-0.5, -1, -1.5], gap_band='g', normalize=True, show_legend=True, night_range=[300, 665])"
   ]
  },
  {
   "cell_type": "code",
   "execution_count": null,
   "metadata": {},
   "outputs": [],
   "source": [
    "fig, axes = make_dual_plot(m5, 'ECDFS', ['g', 'i', 'y'], gap_mags=[-0.5, -1, -1.5], gap_band='g', normalize=True, show_legend=True, night_range=[165, 540])"
   ]
  },
  {
   "cell_type": "code",
   "execution_count": null,
   "metadata": {},
   "outputs": [],
   "source": [
    "fig, axes = make_dual_plot(m5, 'Elias S1', ['g', 'i', 'y'], gap_mags=[-0.5, -1, -1.5], gap_band='g', normalize=True, show_legend=True, night_range=[165, 540])"
   ]
  },
  {
   "cell_type": "code",
   "execution_count": null,
   "metadata": {},
   "outputs": [],
   "source": [
    "fig, axes = make_dual_plot(m5, 'Euclid 1', ['g', 'i', 'y'], gap_mags=[-0.5, -1, -1.5], gap_band='g', normalize=True, show_legend=True, night_range=[200, 565])"
   ]
  },
  {
   "cell_type": "code",
   "execution_count": null,
   "metadata": {},
   "outputs": [],
   "source": [
    "fig, axes = make_dual_plot(m5, 'XMM-LSS', ['g', 'i', 'y'], gap_mags=[-0.5, -1, -1.5], gap_band='g', normalize=True, show_legend=True, night_range=[200, 565])\n",
    "fig.savefig('figures/night_maglim_xmmlss.png', dpi=600, bbox_inches=\"tight\", pad_inches=0)\n",
    "fig.savefig('figures/night_maglim_xmmlss.pdf', bbox_inches=\"tight\", pad_inches=0)"
   ]
  },
  {
   "cell_type": "markdown",
   "metadata": {},
   "source": [
    "# Schedule plots"
   ]
  },
  {
   "cell_type": "code",
   "execution_count": null,
   "metadata": {},
   "outputs": [],
   "source": [
    "def make_schedule_plot(in_m5, schedule_fname, sequence_label, cadence_name, field_name='COSMOS',\n",
    "                       gap_mags=[23, 23.5, 24], gap_band='g', show_legend=False, normalize=False, night_range=[300, 665],\n",
    "                       breaking_gap=None,\n",
    "                       breaking_maglim=None,\n",
    "                       sequence_duration_min=40,\n",
    "                       ylim=None):\n",
    "    \n",
    "    if schedule_fname is not None:\n",
    "        scheduled_nights = (pd.read_csv(schedule_fname, sep=\"\\t\")\n",
    "                            .set_index(['sequence', 'night_mjd'], drop=False)\n",
    "                            .sort_index()\n",
    "                            .loc[sequence_label])\n",
    "        scheduled_nights['night'] = scheduled_nights['night_mjd'] - 59883\n",
    "    else:\n",
    "        scheduled_nights = None\n",
    "\n",
    "    m5 = in_m5.query(f'(night>{night_range[0]}) and (night<{night_range[1]})')\n",
    "        \n",
    "    if breaking_gap is not None:\n",
    "        if breaking_maglim is None:\n",
    "            nongap_scheduled_nights = scheduled_nights.copy()\n",
    "        else:\n",
    "            scheduled_sequence_centers = (scheduled_nights\n",
    "                                       .copy()\n",
    "                                       .assign(center_mjd=scheduled_nights.mjd + sequence_duration_min/(24*60.0))\n",
    "                                       .sort_values('center_mjd')\n",
    "                                       .rename(columns={'night': 'sequence_night', 'mjd': 'sequence_mjd'})\n",
    "            )\n",
    "            scheduled_m5 = pd.merge_asof(\n",
    "                scheduled_sequence_centers,\n",
    "                m5.loc[(field_name, gap_band)].query('m5>10'),\n",
    "                left_on='center_mjd',\n",
    "                right_on='mjd',\n",
    "                direction='nearest'\n",
    "            )\n",
    "            info(f\"len(scheduled_m5): {len(scheduled_m5)}\")\n",
    "            nongap_night_mjd = scheduled_m5.query(f'm5 > {breaking_maglim}').night_mjd\n",
    "            info(f\"len(nongap_night_mjd): {len(nongap_night_mjd)}\")\n",
    "            nongap_scheduled_nights = scheduled_nights.loc[nongap_night_mjd]\n",
    "            \n",
    "        info(f\"len(nongap_scheduled_nights): {len(nongap_scheduled_nights)}\")\n",
    "        nongap_scheduled_nights['subseq'] = (nongap_scheduled_nights['night_mjd'].diff() > breaking_gap).cumsum()\n",
    "        scheduled_group_counts = (nongap_scheduled_nights\n",
    "                                  .groupby('subseq')\n",
    "                                  .count()['mjd']\n",
    "                                  .reset_index()\n",
    "                                  .rename({'mjd': 'count'}, axis='columns')\n",
    "                                  .query('count>20')\n",
    "                                 )\n",
    "        scheduled_seasons = scheduled_group_counts['subseq']\n",
    "        scheduled_nights = nongap_scheduled_nights.set_index('subseq').loc[scheduled_seasons].set_index('night_mjd', drop=False).sort_index()\n",
    "        info(f'len(scheduled_nights): {len(scheduled_nights)}')\n",
    "\n",
    "    # fig, axes = plt.subplots(figsize=(21, 6), sharex=True)\n",
    "    fig, axes = plt.subplots(figsize=(12, 6), sharex=True)\n",
    "    \n",
    "    for full_moon_night in full_moon_nights:\n",
    "        axes.axvline(x=full_moon_night, color='orange', linestyle=\":\")\n",
    "\n",
    "    field_m5 = m5.loc[(field_name, gap_band)].groupby('night').min().reset_index().copy()\n",
    "    prev_moon_angle = field_m5.moon_angle.shift(1)\n",
    "    next_moon_angle = field_m5.moon_angle.shift(-1)\n",
    "    field_m5['moon_nearest'] = np.logical_and(prev_moon_angle > field_m5['moon_angle'],\n",
    "                                              next_moon_angle > field_m5['moon_angle'])\n",
    "    for nearest_moon_night in field_m5.query('moon_nearest').night:\n",
    "        axes.axvline(x=nearest_moon_night, color='yellow', linestyle=\":\")\n",
    "\n",
    "    these_nights = (m5\n",
    "                    .loc[(field_name, gap_band)]\n",
    "                    .groupby('night')\n",
    "                    .max()\n",
    "                    .reindex(np.arange(np.max(m5.night))) # Drops downtime\n",
    "                   )\n",
    "    y = these_nights.m5 - these_nights.m5.max() if normalize else these_nights.m5\n",
    "    axes.step(these_nights.index, y, label=gap_band, color=BAND_COLOR_RUBIN[gap_band], where='post')\n",
    "\n",
    "    if scheduled_nights is not None:\n",
    "        why_linestyles = {'start': '-.',\n",
    "                          'cadence': '-',\n",
    "                          'pregap': 'dashed',\n",
    "                          'postgap': 'dashed',\n",
    "                          'bridge': 'dotted'}\n",
    "        in_time_scheduled_nights = scheduled_nights.loc[these_nights.mjd.min():these_nights.mjd.max()]\n",
    "        ylim = axes.get_ylim() if ylim is None else ylim\n",
    "        for why_key in why_linestyles:\n",
    "            these_scheduled_nights = in_time_scheduled_nights.loc[in_time_scheduled_nights.why == why_key, 'night']\n",
    "            if len(these_scheduled_nights)>0:\n",
    "                axes.vlines(these_scheduled_nights.values, ylim[0], ylim[1], color='magenta', alpha=0.5, linestyle=why_linestyles[why_key])\n",
    "                       \n",
    "    # Adding the vlines expanded the y axis. Put it back\n",
    "    axes.set_ylim(*ylim)\n",
    "    axes.set_title(f'{cadence_name} cadence on {field_name}')\n",
    "\n",
    "    nights_with_data = these_nights.dropna().query('m5>0').index.values\n",
    "    axes.set_xlim(nights_with_data.min()-10, nights_with_data.max()+10)\n",
    "    axes.set_ylabel('best single visit 5-sigma limiting mag. in night')\n",
    "    \n",
    "    night_xticks = axes.get_xticks()\n",
    "    mjd_xticks = night_xticks + np.round(np.mean(m5.mjd - m5.night))\n",
    "    axes.set_xticklabels(\"%d\" % mjd for mjd in mjd_xticks)\n",
    "    axes.set_xlabel('MJD')\n",
    "        \n",
    "    return fig, axes"
   ]
  },
  {
   "cell_type": "code",
   "execution_count": null,
   "metadata": {},
   "outputs": [],
   "source": [
    "fig, ax = make_schedule_plot(m5,\n",
    "                             'data/presched_2day.txt',\n",
    "                             'COSMOS_g',\n",
    "                             '2 day',\n",
    "                             breaking_gap=8,\n",
    "                             breaking_maglim=23)"
   ]
  },
  {
   "cell_type": "code",
   "execution_count": null,
   "metadata": {},
   "outputs": [],
   "source": [
    "fig, ax = make_schedule_plot(m5,\n",
    "                             'data/presched_2day_bridge_shallow.txt',\n",
    "                             'COSMOS_g',\n",
    "                             '2 day, bridged, shallow')"
   ]
  },
  {
   "cell_type": "code",
   "execution_count": null,
   "metadata": {},
   "outputs": [],
   "source": [
    "fig, ax = make_schedule_plot(m5,\n",
    "                             'data/presched_2day_bridge_shallow.txt',\n",
    "                             'COSMOS_g',\n",
    "                             '2 day, bridged, shallow',\n",
    "                             breaking_gap=8)"
   ]
  },
  {
   "cell_type": "code",
   "execution_count": null,
   "metadata": {},
   "outputs": [],
   "source": [
    "fig, ax = make_schedule_plot(m5,\n",
    "                             'data/presched_2day_bridge.txt',\n",
    "                             'COSMOS_g',\n",
    "                             '2 day, bridged')"
   ]
  },
  {
   "cell_type": "code",
   "execution_count": null,
   "metadata": {},
   "outputs": [],
   "source": [
    "fig, ax = make_schedule_plot(m5,\n",
    "                             'data/presched_2day_bridge_deep.txt',\n",
    "                             'COSMOS_g',\n",
    "                             '2 day, bridged, deep')"
   ]
  },
  {
   "cell_type": "code",
   "execution_count": null,
   "metadata": {},
   "outputs": [],
   "source": [
    "fig, ax = make_schedule_plot(m5,\n",
    "                             'data/presched_2day.txt',\n",
    "                             'COSMOS_g',\n",
    "                             '2 day')"
   ]
  },
  {
   "cell_type": "code",
   "execution_count": null,
   "metadata": {},
   "outputs": [],
   "source": [
    "fig, ax = make_schedule_plot(m5,\n",
    "                             'data/presched_3day.txt',\n",
    "                             'COSMOS_g',\n",
    "                             '3 day')"
   ]
  },
  {
   "cell_type": "code",
   "execution_count": null,
   "metadata": {},
   "outputs": [],
   "source": [
    "fig, ax = make_schedule_plot(m5,\n",
    "                             'data/presched_2day.txt',\n",
    "                             'XMM-LSS_g',\n",
    "                             '2 day',\n",
    "                             field_name='XMM-LSS',\n",
    "                             night_range=[220, 475])"
   ]
  },
  {
   "cell_type": "code",
   "execution_count": null,
   "metadata": {},
   "outputs": [],
   "source": [
    "fig, ax = make_schedule_plot(m5,\n",
    "                             'data/presched_3day.txt',\n",
    "                             'XMM-LSS_g',\n",
    "                             '3 day',\n",
    "                             field_name='XMM-LSS',\n",
    "                             night_range=[220, 475])"
   ]
  },
  {
   "cell_type": "markdown",
   "metadata": {},
   "source": [
    "# Rise and Set Plots"
   ]
  },
  {
   "cell_type": "code",
   "execution_count": null,
   "metadata": {},
   "outputs": [],
   "source": [
    "m5['moon_airmass'] = 1.0/np.cos(np.radians(90-m5.moon_alt))\n",
    "m5['field_alt'] = 90 - np.degrees(np.arccos(1.0/m5['field_airmass']))\n",
    "m5['datetime'] = pd.to_datetime(m5['mjd']+2400000.5, unit='D', utc=True, origin='julian').dt.tz_convert('America/Santiago')"
   ]
  },
  {
   "cell_type": "code",
   "execution_count": null,
   "metadata": {},
   "outputs": [],
   "source": [
    "m5[['night', 'full_moon']].reset_index(drop=True).query('full_moon').sort_values('night').drop_duplicates()"
   ]
  },
  {
   "cell_type": "code",
   "execution_count": null,
   "metadata": {},
   "outputs": [],
   "source": [
    "def plot_alt_on_night(night,\n",
    "                      m5,\n",
    "                      field_names=['XMM-LSS'],\n",
    "                      field_colors={'COSMOS': 'black', 'Elias S1': 'green', 'XMM-LSS': 'blue', 'ECDFS': 'red', 'Euclid 1': 'magenta'},\n",
    "                      band='g',\n",
    "                      fig=None,\n",
    "                      ax=None):\n",
    "    night_m5 = m5.query(f'night=={night}').sort_values('mjd')\n",
    "    solar_midnight_mjd = night_m5[night_m5.sun_alt == night_m5.sun_alt.min()].mjd[0]\n",
    "    night_m5['dmjd'] = (night_m5['mjd'] - solar_midnight_mjd)*24\n",
    "    x_column = 'dmjd'\n",
    "    \n",
    "    if ax is None:\n",
    "        fig, ax = plt.subplots()\n",
    "    \n",
    "    linestyle = '-'\n",
    "    for field_name in field_names:\n",
    "        field_table = night_m5.loc[(field_name, band)]\n",
    "        field_table.plot(x_column, 'field_alt', label=field_name, color=field_colors[field_name], linestyle=linestyle, ax=ax)\n",
    "        linestyle = \":\"\n",
    "\n",
    "    \n",
    "    night_m5.plot(x_column, 'moon_alt', label='moon', ax=ax, color='orange')\n",
    "    #night_m5.plot(x_column, 'sun_alt', label='sun', ax=ax, color='yellow')\n",
    "    #ax.set_ylim(0, 90)\n",
    "    #fig.autofmt_xdate()\n",
    "    #ax.xaxis.set_major_formatter(mpl.dates.DateFormatter('%H:%M'))\n",
    "    ax.set_xlabel('Hours after midnight')\n",
    "    return ax\n"
   ]
  },
  {
   "cell_type": "code",
   "execution_count": null,
   "metadata": {},
   "outputs": [],
   "source": [
    "def plot_alt_m5s(center_night,\n",
    "             m5,\n",
    "             night_shift=3,\n",
    "             field_names=['XMM-LSS'],\n",
    "             bands=None):\n",
    "    bands = ('u', 'g', 'r', 'i', 'z', 'y') if bands is None else bands\n",
    "    fig, axes = plt.subplots(6, 4, figsize=(12, 12), sharex=True)\n",
    "    \n",
    "    lunation_title = {0: 'early in season',\n",
    "                      1: 'middle of season',\n",
    "                      2: 'late in season'}\n",
    "    night_title = {3: 'dark',\n",
    "                   0: 'before full',\n",
    "                   1: 'full',\n",
    "                   2: 'after full'}\n",
    "    \n",
    "    # 59 is two synodic months\n",
    "    for lunation_idx, full_night in enumerate([center_night-59, center_night, center_night+59]):\n",
    "        for night_idx, obs_night in enumerate([full_night-night_shift, full_night, full_night+night_shift, full_night+14]):\n",
    "            alt_ax = axes[2*lunation_idx, night_idx]\n",
    "            plot_alt_on_night(obs_night, m5, field_names, ax=alt_ax, fig=fig)\n",
    "            ax = axes[2*lunation_idx+1, night_idx]\n",
    "            linestyle = '-'\n",
    "            for field_name in field_names:\n",
    "                for band in bands:\n",
    "                    field_m5 = m5.loc[(field_name, band)].query(f'night=={obs_night}').sort_values('mjd')\n",
    "                    solar_midnight_mjd = field_m5[field_m5.sun_alt == field_m5.sun_alt.min()].mjd[0]\n",
    "                    field_m5['dmjd'] = (field_m5['mjd'] - solar_midnight_mjd)*24\n",
    "                    field_m5.plot('dmjd', 'm5', label=band, color=BAND_COLOR_RUBIN[band], linestyle=linestyle, ax=ax)\n",
    "                linestyle = \":\"\n",
    "            if alt_ax != axes[0,0]:\n",
    "                alt_ax.get_legend().remove()\n",
    "            if ax != axes[1,0]:\n",
    "                ax.get_legend().remove()\n",
    "            alt_ax.set_title(lunation_title[lunation_idx] + ', ' + night_title[night_idx])\n",
    "            ax.set_xlim(-5, 5)\n",
    "            ax.set_ylim(20.5, 25)\n",
    "            alt_ax.set_ylim(0, 90)\n",
    "             \n",
    "    for column in range(4):\n",
    "        axes[5, column].set_xlabel('Hours after midnight')\n",
    "    \n",
    "    for row in range(0, 6, 2):\n",
    "        axes[row, 0].set_ylabel(r'Alt (deg)')\n",
    "        axes[row+1, 0].set_ylabel(r'5-$\\sigma$ mag. lim.')\n",
    "    \n",
    "    fig.tight_layout()\n",
    "    return fig, axes\n",
    "\n",
    "#plot_alt_m5s(481, m5, 4, field_names=['COSMOS'])\n",
    "fig, axes = plot_alt_m5s(363, m5, 3, field_names=['XMM-LSS'])\n",
    "fig.savefig('figures/m5_alt_xmmlss.png', dpi=600, bbox_inches=\"tight\", pad_inches=0)\n",
    "fig.savefig('figures/m5_alt_xmmlss.pdf', bbox_inches=\"tight\", pad_inches=0)"
   ]
  },
  {
   "cell_type": "markdown",
   "metadata": {},
   "source": [
    "# Sample simulations"
   ]
  },
  {
   "cell_type": "markdown",
   "metadata": {},
   "source": [
    "## Get the simulation results"
   ]
  },
  {
   "cell_type": "code",
   "execution_count": null,
   "metadata": {},
   "outputs": [],
   "source": [
    "%%bash\n",
    "cd data\n",
    "wget -nv https://lsst.ncsa.illinois.edu/sim-data/sims_featureScheduler_runs_technical/ddf_ahead_dec/ddf_pre_fn0_v1.7_10yrs.db\n",
    "wget -nv https://lsst.ncsa.illinois.edu/sim-data/sims_featureScheduler_runs_technical/ddf_ahead_dec/ddf_pre_fn1_v1.7_10yrs.db\n",
    "wget -nv https://lsst.ncsa.illinois.edu/sim-data/sims_featureScheduler_runs_technical/ddf_ahead_dec/ddf_pre_fn2_v1.7_10yrs.db\n",
    "wget -nv https://lsst.ncsa.illinois.edu/sim-data/sims_featureScheduler_runs_technical/ddf_ahead_dec/ddf_pre_fn3_v1.7_10yrs.db\n",
    "wget -nv https://lsst.ncsa.illinois.edu/sim-data/sims_featureScheduler_runs_technical/ddf_ahead_dec/ddf_pre_fn4_v1.7_10yrs.db\n",
    "wget -nv https://lsst.ncsa.illinois.edu/sim-data/sims_featureScheduler_runs1.7/baseline/baseline_nexp1_v1.7_10yrs.db\n",
    "wget -nv https://lsst.ncsa.illinois.edu/sim-data/sims_featureScheduler_runs1.7/baseline/baseline_nexp2_v1.7_10yrs.db\n",
    "wget -nv https://lsst.ncsa.illinois.edu/sim-data/sims_featureScheduler_runs1.5/DDFs/agnddf_v1.5_10yrs.db\n",
    "wget -nv https://lsst.ncsa.illinois.edu/sim-data/sims_featureScheduler_runs1.5/DDFs/descddf_v1.5_10yrs.db\n",
    "cd -"
   ]
  },
  {
   "cell_type": "markdown",
   "metadata": {},
   "source": [
    "fn0 2day\n",
    "\n",
    "fn1 2day bridge deep\n",
    "\n",
    "fn2 3day\n",
    "\n",
    "fn3 2day bridge \n",
    "\n",
    "fn4 2day bridge shallow "
   ]
  },
  {
   "cell_type": "code",
   "execution_count": null,
   "metadata": {},
   "outputs": [],
   "source": [
    "def find_field_hpix(nside, field_radius_deg, fld):\n",
    "    hpxs = healpy.query_disc(nside, healpy.ang2vec(fld['ra'], fld['decl'], lonlat=True), np.radians(field_radius_deg))\n",
    "    field_name = fld.name\n",
    "    df = pd.DataFrame({'hpix': hpxs})\n",
    "    df['field_name'] = field_name\n",
    "    return df"
   ]
  },
  {
   "cell_type": "code",
   "execution_count": null,
   "metadata": {},
   "outputs": [],
   "source": [
    "def load_ddf_visits(fname, include_wide=True, nside=512):\n",
    "    logging.info(\"Reading %s\", fname)\n",
    "    ddf_fields = pd.DataFrame([{'ra': 9.45, 'decl': -44.0, 'field_name': 'Elias S1'},\n",
    "                               {'ra': 35.708333, 'decl': -4-45/60., 'field_name': 'XMM-LSS'},\n",
    "                               {'ra': 53.125, 'decl': -28.-6/60., 'field_name': 'ECDFS'},\n",
    "                               {'ra': 150.1, 'decl': 2.+10./60.+55/3600., 'field_name': 'COSMOS'},\n",
    "                               {'ra': 58.97, 'decl': -49.28, 'field_name': 'Euclid 1'},\n",
    "                               {'ra': 63.6, 'decl': -47.60, 'field_name': 'Euclid 2'}\n",
    "                              ]).set_index('field_name')\n",
    "\n",
    "    with sqlite3.connect(fname) as con:\n",
    "        visits = pd.read_sql_query('SELECT * FROM SummaryAllProps', con)\n",
    "        \n",
    "    field_radius_deg = np.sqrt(9.62/np.pi)\n",
    "    ddf_hpix = (ddf_fields\n",
    "                .groupby(level=0)\n",
    "                .apply(lambda g: find_field_hpix(nside, field_radius_deg, g.iloc[0]))\n",
    "                .set_index('hpix'))['field_name']\n",
    "    \n",
    "    visits['hpix'] = healpy.ang2pix(nside, visits['fieldRA'], visits['fieldDec'], lonlat=True)\n",
    "    visits['field_name'] = visits['hpix'].map(ddf_hpix)\n",
    "    visits['psnight'] = np.floor(0.2+visits['observationStartMJD'] - m5.mjd.min() + m5.night.min())\n",
    "    \n",
    "    visits['HA'] = ((180 + visits['observationStartLST'] - visits['fieldRA']) % 360) - 180\n",
    "    visits['sunHA'] = ((180 + visits['observationStartLST'] - np.degrees(visits['sunRA'])) % 360) - 180\n",
    "    \n",
    "    if include_wide:\n",
    "        ddf_visits = visits[np.logical_or(visits.field_name.notnull(), visits.note.str.startswith('DD'))].copy()\n",
    "    else:\n",
    "        ddf_visits = visits[visits.note.str.startswith('DD')].copy()\n",
    "        \n",
    "    logging.info(\"Finished Reading %s\", fname)\n",
    "    return ddf_visits"
   ]
  },
  {
   "cell_type": "code",
   "execution_count": null,
   "metadata": {},
   "outputs": [],
   "source": [
    "def overplot_sim_on_schedule(visits, m5, field_name, band, schedule_fname, **kwargs):\n",
    "    logging.info(\"Plotting %s in %s\", field_name, band)\n",
    "    these_visits = visits.query(f'field_name == \"{field_name}\" and filter==\"{band}\"')\n",
    "    fig, ax = make_schedule_plot(m5,\n",
    "                                 schedule_fname,\n",
    "                                 field_name=field_name,\n",
    "                                 gap_band=band,\n",
    "                                 # ylim=(these_visits.fiveSigmaDepth.min(), these_visits.fiveSigmaDepth.max()),\n",
    "                                 ylim=(21.5, 25.5),\n",
    "                                 **kwargs\n",
    "                                )\n",
    "    xlabel = ax.get_xlabel()\n",
    "    ylabel = ax.get_ylabel()\n",
    "    these_visits.groupby('psnight').mean().reset_index().plot.scatter('psnight', 'fiveSigmaDepth', color='blue', marker='o', ax=ax)\n",
    "    ax.set_xlabel(xlabel)\n",
    "    ax.set_ylabel(ylabel)\n",
    "    logging.info(\"Finished plotting %s in %s\", field_name, band)\n",
    "    return fig, ax"
   ]
  },
  {
   "cell_type": "code",
   "execution_count": null,
   "metadata": {},
   "outputs": [],
   "source": [
    "def plot_sim_and_schedule(sim_fname, m5, field_name, band, schedule_fname, **kwargs):\n",
    "    visits = load_ddf_visits(sim_fname)\n",
    "    fig, ax = overplot_sim_on_schedule(visits, m5, field_name, band, schedule_fname, **kwargs)\n",
    "    return fig, ax"
   ]
  },
  {
   "cell_type": "code",
   "execution_count": null,
   "metadata": {},
   "outputs": [],
   "source": [
    "fig, ax = plot_sim_and_schedule('data/ddf_pre_fn0_v1.7_10yrs.db',\n",
    "                                m5,\n",
    "                                'COSMOS',\n",
    "                                'g',\n",
    "                                None, #'data/presched_2day.txt',\n",
    "                                sequence_label='COSMOS_g',\n",
    "                                cadence_name='2 day',\n",
    "                                #night_range=[220, 475]\n",
    "                               )\n",
    "                                "
   ]
  },
  {
   "cell_type": "code",
   "execution_count": null,
   "metadata": {},
   "outputs": [],
   "source": [
    "fig, ax = plot_sim_and_schedule('data/ddf_pre_fn0_v1.7_10yrs.db',\n",
    "                                m5,\n",
    "                                'XMM-LSS',\n",
    "                                'g',\n",
    "                                None, # 'data/presched_2day.txt',\n",
    "                                sequence_label='XMM-LSS_g',\n",
    "                                cadence_name='2 day',\n",
    "                                night_range=[220, 475]\n",
    "                               )\n",
    "fig.savefig('figures/ddf_pre_fn0_v1.7_10yrs_xmmlss.png', dpi=600, bbox_inches=\"tight\", pad_inches=0)\n",
    "fig.savefig('figures/ddf_pre_fn0_v1_7_10yrs_xmmlss.pdf', bbox_inches=\"tight\", pad_inches=0)"
   ]
  },
  {
   "cell_type": "code",
   "execution_count": null,
   "metadata": {},
   "outputs": [],
   "source": [
    "fig, ax = plot_sim_and_schedule('data/ddf_pre_fn2_v1.7_10yrs.db',\n",
    "                                m5,\n",
    "                                'XMM-LSS',\n",
    "                                'g',\n",
    "                                None, #'data/presched_3day.txt',\n",
    "                                sequence_label='XMM-LSS_g',\n",
    "                                cadence_name='3 day',\n",
    "                                night_range=[220, 475]\n",
    "                               )\n",
    "fig.savefig('figures/ddf_pre_fn2_v1.7_10yrs_xmmlss.png', dpi=600, bbox_inches=\"tight\", pad_inches=0)\n",
    "fig.savefig('figures/ddf_pre_fn2_v1_7_10yrs_xmmlss.pdf', bbox_inches=\"tight\", pad_inches=0)"
   ]
  },
  {
   "cell_type": "code",
   "execution_count": null,
   "metadata": {},
   "outputs": [],
   "source": [
    "fig, ax = plot_sim_and_schedule('data/baseline_nexp2_v1.7_10yrs.db',\n",
    "                                m5,\n",
    "                                'XMM-LSS',\n",
    "                                'g',\n",
    "                                None,\n",
    "                                sequence_label='XMM-LSS_g',\n",
    "                                cadence_name='baseline',\n",
    "                                night_range=[220, 475]\n",
    "                               )\n",
    "fig.savefig('figures/baseline_nexp2_v1.7_10yrs_xmmlss.png', dpi=600, bbox_inches=\"tight\", pad_inches=0)\n",
    "fig.savefig('figures/baseline_nexp2_v1_7_10yrs_xmmlss.pdf', dpi=600, bbox_inches=\"tight\", pad_inches=0)"
   ]
  },
  {
   "cell_type": "code",
   "execution_count": null,
   "metadata": {},
   "outputs": [],
   "source": [
    "fig, ax = plot_sim_and_schedule('data/baseline_nexp2_v1.7_10yrs.db',\n",
    "                                m5,\n",
    "                                'COSMOS',\n",
    "                                'g',\n",
    "                                None,\n",
    "                                sequence_label='COSMOS_g',\n",
    "                                cadence_name='baseline',\n",
    "                                # night_range=[220, 475]\n",
    "                               )"
   ]
  },
  {
   "cell_type": "code",
   "execution_count": null,
   "metadata": {},
   "outputs": [],
   "source": [
    "fig, ax = plot_sim_and_schedule('data/baseline_nexp2_v1.7_10yrs.db',\n",
    "                                m5,\n",
    "                                'ECDFS',\n",
    "                                'g',\n",
    "                                None,\n",
    "                                sequence_label='ECDFS_g',\n",
    "                                cadence_name='baseline',\n",
    "                                night_range=[220, 475]\n",
    "                               )"
   ]
  },
  {
   "cell_type": "code",
   "execution_count": null,
   "metadata": {},
   "outputs": [],
   "source": [
    "fig, ax = plot_sim_and_schedule('data/agnddf_v1.5_10yrs.db',\n",
    "                                m5,\n",
    "                                'XMM-LSS',\n",
    "                                'g',\n",
    "                                None,\n",
    "                                sequence_label='XMM-LSS_g',\n",
    "                                cadence_name='AGN DDF',\n",
    "                                night_range=[220, 475]\n",
    "                               )\n",
    "fig.savefig('figures/agnddf_v1.5_10yrs_xmmlss.png', dpi=600, bbox_inches=\"tight\", pad_inches=0)\n",
    "fig.savefig('figures/agnddf_v1_5_10yrs_xmmlss.pdf', bbox_inches=\"tight\", pad_inches=0)"
   ]
  },
  {
   "cell_type": "code",
   "execution_count": null,
   "metadata": {},
   "outputs": [],
   "source": [
    "fig, ax = plot_sim_and_schedule('data/descddf_v1.5_10yrs.db',\n",
    "                                m5,\n",
    "                                'XMM-LSS',\n",
    "                                'g',\n",
    "                                None,\n",
    "                                sequence_label='XMM-LSS_g',\n",
    "                                cadence_name='DESC DDF',\n",
    "                                night_range=[220, 475]\n",
    "                               )\n",
    "fig.savefig('figures/desc_v1.5_10yrs_xmmlss.png', dpi=600, bbox_inches=\"tight\", pad_inches=0)\n",
    "fig.savefig('figures/desc_v1_5_10yrs_xmmlss.pdf', bbox_inches=\"tight\", pad_inches=0)"
   ]
  },
  {
   "cell_type": "markdown",
   "metadata": {},
   "source": [
    "# Gaps"
   ]
  },
  {
   "cell_type": "code",
   "execution_count": null,
   "metadata": {},
   "outputs": [],
   "source": [
    "sim_fname = 'data/ddf_pre_fn0_v1.7_10yrs.db'\n",
    "field_name = 'XMM-LSS'\n",
    "band = 'g'\n",
    "gap_bins = np.arange(0.5, 20.5, 1)\n",
    "depths = (0, 22.5, 23, 23.5, 24)"
   ]
  },
  {
   "cell_type": "code",
   "execution_count": null,
   "metadata": {},
   "outputs": [],
   "source": [
    "def make_gap_histogram_by_limit(sim_fname, field_name, band, gap_bins=np.arange(0.5, 20.5, 1), depths=(0, 22.5, 23, 23.5, 24)):\n",
    "    visits = load_ddf_visits(sim_fname)\n",
    "\n",
    "    these_visits = visits.query(f'field_name == \"{field_name}\" and filter==\"{band}\"')\n",
    "    these_visits.head()\n",
    "\n",
    "    night_visit_depths = these_visits.groupby('psnight').mean()[['observationStartMJD', 'fiveSigmaDepth']].rename(columns={'observationStartMJD': 'mjd'})\n",
    "\n",
    "    fig, ax = plt.subplots(figsize=(12, 6), sharex=True)\n",
    "    ax.hist([night_visit_depths.query(f'fiveSigmaDepth > {depth}').mjd.diff() for depth in depths],\n",
    "                 bins=gap_bins,\n",
    "                 label=[f'm>{depth}' for depth in depths])\n",
    "    ax.set_xticks(np.arange(0, 20))\n",
    "    ax.legend()\n",
    "    return fig, ax"
   ]
  },
  {
   "cell_type": "code",
   "execution_count": null,
   "metadata": {},
   "outputs": [],
   "source": [
    "make_gap_histogram_by_limit(\n",
    "    sim_fname='data/ddf_pre_fn0_v1.7_10yrs.db',\n",
    "    field_name='XMM-LSS',\n",
    "    band='g'\n",
    ")"
   ]
  },
  {
   "cell_type": "code",
   "execution_count": null,
   "metadata": {},
   "outputs": [],
   "source": [
    "make_gap_histogram_by_limit(\n",
    "    sim_fname='data/ddf_pre_fn1_v1.7_10yrs.db',\n",
    "    field_name='XMM-LSS',\n",
    "    band='g'\n",
    ")"
   ]
  },
  {
   "cell_type": "code",
   "execution_count": null,
   "metadata": {},
   "outputs": [],
   "source": [
    "make_gap_histogram_by_limit(\n",
    "    sim_fname='data/ddf_pre_fn1_v1.7_10yrs.db',\n",
    "    field_name='XMM-LSS',\n",
    "    band='g'\n",
    ")"
   ]
  },
  {
   "cell_type": "code",
   "execution_count": null,
   "metadata": {},
   "outputs": [],
   "source": [
    "make_gap_histogram_by_limit(\n",
    "    sim_fname='data/ddf_pre_fn2_v1.7_10yrs.db',\n",
    "    field_name='XMM-LSS',\n",
    "    band='g'\n",
    ")"
   ]
  },
  {
   "cell_type": "code",
   "execution_count": null,
   "metadata": {},
   "outputs": [],
   "source": [
    "make_gap_histogram_by_limit(\n",
    "    sim_fname='data/ddf_pre_fn4_v1.7_10yrs.db',\n",
    "    field_name='XMM-LSS',\n",
    "    band='g'\n",
    ")"
   ]
  },
  {
   "cell_type": "code",
   "execution_count": null,
   "metadata": {},
   "outputs": [],
   "source": [
    "make_gap_histogram_by_limit(\n",
    "    sim_fname='data/agnddf_v1.5_10yrs.db',\n",
    "    field_name='XMM-LSS',\n",
    "    band='g'\n",
    ")"
   ]
  },
  {
   "cell_type": "code",
   "execution_count": null,
   "metadata": {},
   "outputs": [],
   "source": [
    "make_gap_histogram_by_limit(\n",
    "    sim_fname='data/descddf_v1.5_10yrs.db',\n",
    "    field_name='XMM-LSS',\n",
    "    band='g'\n",
    ")"
   ]
  },
  {
   "cell_type": "code",
   "execution_count": null,
   "metadata": {},
   "outputs": [],
   "source": [
    "make_gap_histogram_by_limit(\n",
    "    sim_fname='data/baseline_nexp2_v1.7_10yrs.db',\n",
    "    field_name='XMM-LSS',\n",
    "    band='g'\n",
    ")"
   ]
  },
  {
   "cell_type": "markdown",
   "metadata": {},
   "source": [
    "## Histogram gaps by sim"
   ]
  },
  {
   "cell_type": "code",
   "execution_count": null,
   "metadata": {},
   "outputs": [],
   "source": [
    "field_name = 'XMM-LSS'\n",
    "#field_name = 'COSMOS'\n",
    "band = 'g'\n",
    "sim_fnames = ('data/baseline_nexp2_v1.7_10yrs.db',\n",
    "              'data/descddf_v1.5_10yrs.db',\n",
    "              'data/agnddf_v1.5_10yrs.db',\n",
    "              'data/ddf_pre_fn0_v1.7_10yrs.db',\n",
    "              'data/ddf_pre_fn2_v1.7_10yrs.db',\n",
    "              'data/ddf_pre_fn3_v1.7_10yrs.db')\n",
    "sim_colors = ('black', 'red', 'green', 'steelblue', 'skyblue', 'blue')"
   ]
  },
  {
   "cell_type": "code",
   "execution_count": null,
   "metadata": {},
   "outputs": [],
   "source": [
    "try:\n",
    "    sim_visits = cached_sim_visits.copy()\n",
    "except:\n",
    "    sim_visits = {sim_fname: load_ddf_visits(sim_fname).query(f'field_name == \"{field_name}\" and filter==\"{band}\"') for sim_fname in sim_fnames}\n",
    "    cached_sim_visits = sim_visits.copy()"
   ]
  },
  {
   "cell_type": "code",
   "execution_count": null,
   "metadata": {},
   "outputs": [],
   "source": [
    "def make_gap_histogram_by_sim(sim_visits, depth=0, gap_bins=np.arange(0.5, 14.5, 1), inset_bins=np.arange(0.5, 14.5, 1), colors=sim_colors):\n",
    "    gaps = {sim_fname: these_visits\n",
    "                       .groupby('psnight')\n",
    "                       .mean()[['observationStartMJD', 'fiveSigmaDepth']]\n",
    "                       .rename(columns={'observationStartMJD': 'mjd'})\n",
    "                       .query(f'fiveSigmaDepth > {depth}')\n",
    "                       .mjd.diff()\n",
    "            for sim_fname, these_visits\n",
    "            in sim_visits.items()}\n",
    "                        \n",
    "    fig, ax = plt.subplots(figsize=(12, 6))\n",
    "    ax.hist(gaps.values(),\n",
    "            bins=gap_bins,\n",
    "            label=tuple(gaps.keys()),\n",
    "            color=colors\n",
    "           )\n",
    "    ax.set_xticks(np.arange(0, int(np.floor(gap_bins[-1]))+1))\n",
    "    ax.legend()\n",
    "    \n",
    "    if depth>0:\n",
    "        ax.set_title(f\"m < {depth}\")\n",
    "    \n",
    "    inset_ax = ax.inset_axes([0.3, 0.25, 0.7, 0.5])\n",
    "    inset_ax.hist(gaps.values(), bins=gap_bins, label=tuple(gaps.keys()), color=colors)\n",
    "    inset_ax.set_xlim(6.5, inset_bins[-1])\n",
    "    inset_ax.set_ylim(0, 20)\n",
    "    inset_ax.set_yticks(np.arange(0, 20, 4))\n",
    "    \n",
    "    return fig, ax"
   ]
  },
  {
   "cell_type": "code",
   "execution_count": null,
   "metadata": {},
   "outputs": [],
   "source": [
    "gap_bins = np.arange(0.5, 10.5, 1)\n",
    "gap_bins[-1] = 30\n",
    "inset_bins = gap_bins"
   ]
  },
  {
   "cell_type": "code",
   "execution_count": null,
   "metadata": {},
   "outputs": [],
   "source": [
    "fig, ax = make_gap_histogram_by_sim(sim_visits)\n",
    "ax.set_title(\"Gaps between visits, all depths\")\n",
    "fig.savefig('figures/mag000_sim_gaps_xmmlss.png', dpi=600, bbox_inches=\"tight\", pad_inches=0)\n",
    "fig.savefig('figures/mag000_sim_gaps_xmmlss.pdf', bbox_inches=\"tight\", pad_inches=0)"
   ]
  },
  {
   "cell_type": "code",
   "execution_count": null,
   "metadata": {},
   "outputs": [],
   "source": [
    "fig, ax = make_gap_histogram_by_sim(sim_visits, depth=22.5)\n",
    "ax.set_title(\"Gaps between visits, $m_{5\\sigma,g}<22.5$\")\n",
    "fig.savefig('figures/mag225_sim_gaps_xmmlss.png', dpi=600, bbox_inches=\"tight\", pad_inches=0)\n",
    "fig.savefig('figures/mag225_sim_gaps_xmmlss.pdf', dpi=600, bbox_inches=\"tight\", pad_inches=0)"
   ]
  },
  {
   "cell_type": "code",
   "execution_count": null,
   "metadata": {},
   "outputs": [],
   "source": [
    "fig, ax = make_gap_histogram_by_sim(sim_visits, depth=23)\n",
    "ax.set_title(\"Gaps between visits, $m_{5\\sigma,g}<23$\")\n",
    "fig.savefig('figures/mag230_sim_gaps_xmmlss.png', dpi=600, bbox_inches=\"tight\", pad_inches=0)\n",
    "fig.savefig('figures/mag230_sim_gaps_xmmlss.pdf', bbox_inches=\"tight\", pad_inches=0)"
   ]
  },
  {
   "cell_type": "code",
   "execution_count": null,
   "metadata": {},
   "outputs": [],
   "source": [
    "fig, ax = make_gap_histogram_by_sim(sim_visits, depth=23.5)\n",
    "ax.set_title(\"Gaps between visits, $m_{5\\sigma,g}<23.5$\")\n",
    "fig.savefig('figures/mag235_sim_gaps_xmmlss.png', dpi=600, bbox_inches=\"tight\", pad_inches=0)\n",
    "fig.savefig('figures/mag235_sim_gaps_xmmlss.pdf', bbox_inches=\"tight\", pad_inches=0)"
   ]
  },
  {
   "cell_type": "markdown",
   "metadata": {},
   "source": [
    "## Tabulate gaps, season lengths, long gaps"
   ]
  },
  {
   "cell_type": "code",
   "execution_count": null,
   "metadata": {},
   "outputs": [],
   "source": [
    "sim_visits.keys()"
   ]
  },
  {
   "cell_type": "code",
   "execution_count": null,
   "metadata": {},
   "outputs": [],
   "source": [
    "long_gap_break = 7.5\n",
    "season_break_gap = 30\n",
    "depth = 20\n",
    "sim_fname = 'data/ddf_pre_fn0_v1.7_10yrs.db'\n",
    "#sim_fname = 'descddf_v1.5_10yrs.db'\n",
    "#sim_fname = 'baseline_nexp2_v1.7_10yrs.db'\n",
    "these_visits = (sim_visits[sim_fname]\n",
    "                .query(f'fiveSigmaDepth > {depth}')\n",
    "                .groupby('psnight')\n",
    "                .mean()[['observationStartMJD', 'fiveSigmaDepth']]\n",
    "                .rename(columns={'observationStartMJD': 'mjd'})\n",
    "               )\n",
    "these_visits['gap'] = these_visits['mjd'].diff()\n",
    "these_visits['long_gap'] = these_visits['gap'] > long_gap_break\n",
    "these_visits['interseason_gap'] = these_visits['gap'] > season_break_gap\n",
    "these_visits['season'] = these_visits['interseason_gap'].apply(lambda x: 1 if x else 0).cumsum()\n",
    "these_visits['sim_fname'] = sim_fname\n",
    "these_visits.set_index('season', drop=False, inplace=True)\n",
    "these_visits.loc[1].set_index('mjd', drop=False)"
   ]
  },
  {
   "cell_type": "code",
   "execution_count": null,
   "metadata": {},
   "outputs": [],
   "source": [
    "ax = these_visits.plot.scatter('mjd', 'fiveSigmaDepth')\n",
    "ax.set_xlim(60113, 60333)"
   ]
  },
  {
   "cell_type": "code",
   "execution_count": null,
   "metadata": {},
   "outputs": [],
   "source": [
    "def compute_season_stats(df):\n",
    "    count = len(df)\n",
    "    season_start = df['mjd'].min()\n",
    "    season_end = df['mjd'].max()\n",
    "    season_length = season_end - season_start\n",
    "    mean_gap = season_length/count\n",
    "    try:\n",
    "        max_gap = np.nanmax(df['gap'].values[1:])\n",
    "    except:\n",
    "        max_gap = np.nan\n",
    "    long_gaps = len(df[df['long_gap']])\n",
    "    \n",
    "    # If the first gap is the interseason gap, do not count it\n",
    "    first_long_gap = df['long_gap'].values[0]\n",
    "    if (not np.isnan(first_long_gap)) and first_long_gap:\n",
    "        long_gaps = long_gaps - 1\n",
    "        \n",
    "    season_stats = pd.Series({'season_start': season_start,\n",
    "                                 'season_end': season_end,\n",
    "                                 'season_length': season_length,\n",
    "                                 'num_visits': count,\n",
    "                                 'mean_gap': mean_gap,\n",
    "                                 'max_gap': max_gap,\n",
    "                                 'long_gaps': long_gaps})\n",
    "    return season_stats"
   ]
  },
  {
   "cell_type": "code",
   "execution_count": null,
   "metadata": {},
   "outputs": [],
   "source": [
    "def compute_sim_stats(sim_visits, depth=0, season_break_gap=28, long_gap_break=7.5, min_season_length=28):\n",
    "    sim_night_list = []\n",
    "    for sim_fname, sim_values in sim_visits.items():\n",
    "        these_visits = (sim_values\n",
    "                        .query(f'fiveSigmaDepth > {depth}')\n",
    "                        .groupby('psnight')\n",
    "                        .mean()[['observationStartMJD', 'fiveSigmaDepth']]\n",
    "                        .rename(columns={'observationStartMJD': 'mjd'})\n",
    "                       )\n",
    "        these_visits['gap'] = these_visits['mjd'].diff()\n",
    "        these_visits['long_gap'] = these_visits['gap'] > long_gap_break\n",
    "        these_visits['interseason_gap'] = these_visits['gap'] > season_break_gap\n",
    "        these_visits['season'] = these_visits['interseason_gap'].apply(lambda x: 1 if x else 0).cumsum()\n",
    "        these_visits['sim_fname'] = sim_fname\n",
    "        sim_night_list.append(these_visits)\n",
    "        \n",
    "    season_stats = (pd.concat(sim_night_list)\n",
    "                    .groupby(['sim_fname', 'season'])\n",
    "                    .apply(compute_season_stats)\n",
    "                    .reset_index(level='season')\n",
    "                   )\n",
    "    \n",
    "    season_stats = (season_stats\n",
    "                    .groupby('sim_fname')\n",
    "                    .apply(lambda df: df.nlargest(11, 'season_length')\n",
    "                           .reset_index()\n",
    "                           .drop(columns=['sim_fname']))\n",
    "                   )\n",
    "    \n",
    "    sim_stats = (season_stats\n",
    "                 .query(f'season_length > {min_season_length}')\n",
    "                 .groupby('sim_fname')\n",
    "                 .agg({'season': 'count',\n",
    "                       'num_visits': 'sum',\n",
    "                       'mean_gap': 'mean',\n",
    "                       'max_gap': 'mean',\n",
    "                       'long_gaps': 'sum',\n",
    "                       'season_length': 'mean'})\n",
    "                )\n",
    "    \n",
    "    sim_stats['num_visits'] = sim_stats['num_visits'].astype(int)\n",
    "    sim_stats['long_gaps'] = sim_stats['long_gaps'].astype(int)\n",
    "    sim_stats['max_gap'] = np.round(sim_stats['max_gap']).astype(int)\n",
    "    sim_stats['season_length'] = np.round(sim_stats['season_length']).astype(int)\n",
    "    sim_stats['mean_gap'] = np.round(sim_stats['mean_gap'], 1)\n",
    "    return sim_stats"
   ]
  },
  {
   "cell_type": "code",
   "execution_count": null,
   "metadata": {},
   "outputs": [],
   "source": [
    "sim_stats = compute_sim_stats(sim_visits)\n",
    "print(sim_stats.to_latex())\n",
    "sim_stats"
   ]
  },
  {
   "cell_type": "code",
   "execution_count": null,
   "metadata": {},
   "outputs": [],
   "source": [
    "compute_sim_stats(sim_visits, depth=23)"
   ]
  },
  {
   "cell_type": "code",
   "execution_count": null,
   "metadata": {},
   "outputs": [],
   "source": [
    "compute_sim_stats(sim_visits, depth=23.5)"
   ]
  },
  {
   "cell_type": "code",
   "execution_count": null,
   "metadata": {},
   "outputs": [],
   "source": [
    "compute_sim_stats(sim_visits, depth=24, min_season_length=70)"
   ]
  },
  {
   "cell_type": "code",
   "execution_count": null,
   "metadata": {},
   "outputs": [],
   "source": [
    "sim_names = {\n",
    "    'data/agnddf_v1.5_10yrs.db': 'agnddf_v1.5_10yrs',\n",
    "    'data/descddf_v1.5_10yrs.db': 'descddf_v1.5_10yrs',\n",
    "    'data/baseline_nexp2_v1.7_10yrs.db': 'baseline_nexp2_v1.7_10yrs',\n",
    "    'data/ddf_pre_fn0_v1.7_10yrs.db': '2 day prescheduled',\n",
    "    'data/ddf_pre_fn2_v1.7_10yrs.db': '3 day prescheduled',\n",
    "    'data/ddf_pre_fn3_v1.7_10yrs.db': '2 day prescheduled, bridged'\n",
    "}"
   ]
  },
  {
   "cell_type": "code",
   "execution_count": null,
   "metadata": {},
   "outputs": [],
   "source": [
    "sim_order = ('baseline_nexp2_v1.7_10yrs',\n",
    "             'agnddf_v1.5_10yrs',\n",
    "             'descddf_v1.5_10yrs',\n",
    "             '2 day prescheduled',\n",
    "             '3 day prescheduled',\n",
    "             '2 day prescheduled, bridged')\n",
    "\n",
    "sim_order_key = lambda sims: sims.map(lambda s: sim_order.index(s))"
   ]
  },
  {
   "cell_type": "code",
   "execution_count": null,
   "metadata": {},
   "outputs": [],
   "source": [
    "def multi_sim_stats(sim_visits, **kwargs):\n",
    "    sim_stats_list = []\n",
    "    for depth in (20, 23.0, 23.5, 24):\n",
    "        these_sim_stats = compute_sim_stats(sim_visits, depth=depth, min_season_length=70, **kwargs)\n",
    "        these_sim_stats['depth'] = depth\n",
    "        these_sim_stats.reset_index(inplace=True)\n",
    "        these_sim_stats['sim'] = these_sim_stats['sim_fname'].map(sim_names)\n",
    "        these_sim_stats.set_index('sim_fname')\n",
    "        these_sim_stats.sort_values(by='sim', key=sim_order_key, inplace=True)\n",
    "        sim_stats_list.append(these_sim_stats)\n",
    "\n",
    "    sim_stats = pd.concat(sim_stats_list).set_index(['sim'], drop=True)\n",
    "    sim_stats.drop('2 day prescheduled, bridged', inplace=True)\n",
    "\n",
    "    sim_stats = sim_stats.reset_index().set_index(['depth', 'sim'], drop=True)\n",
    "    return sim_stats"
   ]
  },
  {
   "cell_type": "code",
   "execution_count": null,
   "metadata": {},
   "outputs": [],
   "source": [
    "sim_stats = multi_sim_stats(sim_visits)\n",
    "sim_stats"
   ]
  },
  {
   "cell_type": "code",
   "execution_count": null,
   "metadata": {},
   "outputs": [],
   "source": [
    "print(sim_stats[['num_visits', 'mean_gap', 'max_gap', 'long_gaps', 'season_length']].to_latex())"
   ]
  },
  {
   "cell_type": "code",
   "execution_count": null,
   "metadata": {},
   "outputs": [],
   "source": [
    "sim_stats = multi_sim_stats(sim_visits)\n",
    "\n",
    "trunc_sim_stats = multi_sim_stats(sim_visits, season_break_gap=13).reset_index(level='depth')\n",
    "trunc_sim_stats = trunc_sim_stats.loc[['2 day prescheduled', '3 day prescheduled']]\n",
    "trunc_sim_stats = trunc_sim_stats.reset_index().rename(columns={'sim': 'sim_src'})\n",
    "trunc_sim_stats['sim'] = trunc_sim_stats['sim_src'].str.replace('prescheduled', 'pres. trunc.')\n",
    "trunc_sim_stats = trunc_sim_stats.set_index(['depth', 'sim']).drop(columns=['sim_src'])\n",
    "trunc_sim_stats.sort_index()\n",
    "\n",
    "sim_stats = pd.concat([sim_stats, trunc_sim_stats]).sort_index()\n",
    "sim_stats"
   ]
  },
  {
   "cell_type": "code",
   "execution_count": null,
   "metadata": {},
   "outputs": [],
   "source": []
  }
 ],
 "metadata": {
  "kernelspec": {
   "display_name": "Python3 (LSST MAF)",
   "language": "python",
   "name": "lsst_maf"
  },
  "language_info": {
   "codemirror_mode": {
    "name": "ipython",
    "version": 3
   },
   "file_extension": ".py",
   "mimetype": "text/x-python",
   "name": "python",
   "nbconvert_exporter": "python",
   "pygments_lexer": "ipython3",
   "version": "3.7.8"
  }
 },
 "nbformat": 4,
 "nbformat_minor": 2
}
